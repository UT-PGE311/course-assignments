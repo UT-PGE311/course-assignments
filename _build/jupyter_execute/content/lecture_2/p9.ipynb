{
 "cells": [
  {
   "cell_type": "markdown",
   "metadata": {
    "collapsed": false,
    "pycharm": {
     "name": "#%% md\n"
    }
   },
   "source": [
    "# Problem 2.9\n",
    "\n",
    "Create a 2D plot of a chaotic solution to the Lorenz System. In the cell below, we have set up, solved, and saved the solution data of the Lorenz System for you. You do not need to worry about the details of how we solved it (but we will learn about numerical integration later in the semester!).\n",
    "\n",
    "\n",
    "Please follow these instructions:\n",
    "\n",
    "0. Run the cell below without modifying it\n",
    "\n"
   ]
  },
  {
   "cell_type": "code",
   "execution_count": 1,
   "metadata": {
    "collapsed": false,
    "pycharm": {
     "name": "#%%\n"
    }
   },
   "outputs": [],
   "source": [
    "import numpy as np\n",
    "import matplotlib.pyplot as plt\n",
    "import scipy.integrate\n",
    "\n",
    "# Do not modify the code below!\n",
    "def lorenz(X, t, sigma, beta, rho):\n",
    "        x, y, z = X\n",
    "        dxdt = sigma*(y-x)\n",
    "        dydt = x*(rho - z) - y\n",
    "        dzdt = x*y - beta*z\n",
    "        return dxdt, dydt, dzdt\n",
    "\n",
    "sigma = 10\n",
    "beta = 8/3\n",
    "rho = 28\n",
    "t = np.linspace(0,50,10000)\n",
    "solution = scipy.integrate.odeint(lorenz, [0, 1, 0], t, args=(sigma, beta, rho))\n",
    "x = solution[:,0]\n",
    "y = solution[:,1]\n",
    "z = solution[:,2]"
   ]
  },
  {
   "cell_type": "markdown",
   "metadata": {
    "collapsed": false,
    "pycharm": {
     "name": "#%% md\n"
    }
   },
   "source": [
    "# Make your plot in the cell below.\n",
    "1. In the next cell, plot z versus x with a line color of your choice\n",
    "2. Add a title to the plot\n",
    "3. Add x and y axis labels\n",
    "4. Set the range of the x-axis to [-25, 25]\n",
    "5. Set the range of the y-axis to [0, 50]\n",
    "6. Show the grid lines"
   ]
  },
  {
   "cell_type": "code",
   "execution_count": null,
   "metadata": {
    "collapsed": false,
    "pycharm": {
     "name": "#%%\n"
    }
   },
   "outputs": [],
   "source": [
    "#"
   ]
  }
 ],
 "metadata": {
  "kernelspec": {
   "display_name": "Python 3",
   "language": "python",
   "name": "python3"
  },
  "language_info": {
   "codemirror_mode": {
    "name": "ipython",
    "version": 2
   },
   "file_extension": ".py",
   "mimetype": "text/x-python",
   "name": "python",
   "nbconvert_exporter": "python",
   "pygments_lexer": "ipython2",
   "version": "2.7.6"
  }
 },
 "nbformat": 4,
 "nbformat_minor": 0
}