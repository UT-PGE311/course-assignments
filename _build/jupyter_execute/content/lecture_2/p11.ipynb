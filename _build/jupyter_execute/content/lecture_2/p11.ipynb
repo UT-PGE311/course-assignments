{
 "cells": [
  {
   "cell_type": "markdown",
   "metadata": {
    "collapsed": false,
    "pycharm": {
     "name": "#%% md\n"
    }
   },
   "source": [
    "# Problem 2.11\n",
    "\n",
    "## Physics of Projectile Motion\n",
    "To model the trajectory of a projectile, we must know its x- and y- positions at any point in time. Because we want a more realistic model, we will $\\textbf{not}$ neglect air resistance.\n",
    "\n",
    "The x- and y-positions* of the football at time, $t$, after it leaves Sam's hand is given by:\n",
    "\n",
    "$$x = \\frac{v_x^0 v_t}{g} \\left(1 - \\textrm{exp}\\left(\\frac{-gt}{v_t}\\right)\\right)$$\n",
    "$$y = \\frac{v_t}{g}(v_y^0 + v_t)\\left(1 - \\textrm{exp}\\left(\\frac{-gt}{v_t}\\right)\\right) - v_tt$$\n",
    "\n",
    "where $exp(\\alpha)$ is the natural exponential function $e^\\alpha$, $g$ is the acceleration due to gravity and $v_x^0$, $v_y^0$ are the initial x- and y-components of velocity, respectively.\n",
    "\n",
    "$v_t$ is the terminal velocity (i.e., the velocity at which the drag force balances the gravitational force for a falling object).\n",
    "\n",
    "$$v_t = mg/c$$\n",
    "\n",
    "where $m$ is the mass of the object, and $c$ is a positive constant that represents the effect of the drag force.\n",
    "\n",
    "*If you would like to see the derivations of these equations, please see the attached pdf.\n",
    "\n",
    "## Model Parameters\n",
    "To make our already-complicated lives easier, we will use SI units for this problem.\n",
    "$\\\\v^0 = 25.0 \\;\\textrm{m/s}\\;\\; (\\approx56 \\;\\textrm{mph})$\n",
    "&emsp;Note, $v_x^0 = v^0\\cos(\\theta)$, $v_y^0 = v^0\\sin(\\theta)$ where $\\theta = 35^{\\circ}$ is the launch angle. $g = 9.81 \\textrm{m/s}^2$. $c = 0.3$. $m = 0.42 \\;\\textrm{kg}\\;\\; (\\approx15 \\;\\textrm{oz})$. $t = 0-2.32 \\;\\textrm{s}$\n",
    "\n",
    "## Problem Statement\n",
    "Use Python to find the x- and y-positions of the ball at time $t$. Use subplot to generate a side-by-side graph of the following curves. Be sure to include axis labels and titles for both subplots.\n",
    "\n",
    "(a) y vs. x (Green line)\n",
    "(b) x vs. t (Red line)\n",
    "\n",
    "Set the limits of the y-axis to [0, 10]"
   ]
  },
  {
   "cell_type": "code",
   "execution_count": null,
   "metadata": {
    "collapsed": false,
    "pycharm": {
     "name": "#%%\n"
    }
   },
   "outputs": [],
   "source": [
    "# Import numpy and matplotlib.pyplot\n"
   ]
  },
  {
   "cell_type": "code",
   "execution_count": null,
   "metadata": {
    "collapsed": false,
    "pycharm": {
     "name": "#%%\n"
    }
   },
   "outputs": [],
   "source": [
    "# Define model parameters\n",
    "# Do not type in the units.\n",
    "# The mass is given as an exmaple.\n",
    "m =     # Mass of projectile in kg\n",
    "g =          # Acceleration due to gravity (m/s^2)\n",
    "v_0 =        # Initial velocity in m/s\n",
    "theta =      # Angle of initial velocity in degrees\n",
    "c =          # Drag"
   ]
  },
  {
   "cell_type": "code",
   "execution_count": null,
   "metadata": {
    "collapsed": false,
    "pycharm": {
     "name": "#%%\n"
    }
   },
   "outputs": [],
   "source": [
    "# Initialize time vector using 100 points between 0 and 2.32\n",
    "t =\n",
    "\n",
    "# Calculate initial velocity components\n",
    "# Note: numpy trig functions expect angles in radians, change the launch angle to radians!\n",
    "# numpy provides a function to convert degrees to radians\n",
    "vx_0 =                          # Initial x-component of velocity\n",
    "vy_0 =                          # Initial y-component of velocity\n",
    "\n",
    "# Calculate terminal velocity\n",
    "vt =                            # Terminal velocity"
   ]
  },
  {
   "cell_type": "code",
   "execution_count": null,
   "metadata": {
    "collapsed": false,
    "pycharm": {
     "name": "#%%\n"
    }
   },
   "outputs": [],
   "source": [
    "# Calculate the x- and y-positions at time, t.\n",
    "x =\n",
    "y ="
   ]
  },
  {
   "cell_type": "code",
   "execution_count": null,
   "metadata": {
    "collapsed": false,
    "pycharm": {
     "name": "#%%\n"
    }
   },
   "outputs": [],
   "source": [
    "# Plot results\n",
    "# First, plot y versus x\n",
    "\n",
    "# Then, plot x versus t"
   ]
  }
 ],
 "metadata": {
  "kernelspec": {
   "display_name": "Python 3",
   "language": "python",
   "name": "python3"
  },
  "language_info": {
   "codemirror_mode": {
    "name": "ipython",
    "version": 2
   },
   "file_extension": ".py",
   "mimetype": "text/x-python",
   "name": "python",
   "nbconvert_exporter": "python",
   "pygments_lexer": "ipython2",
   "version": "2.7.6"
  }
 },
 "nbformat": 4,
 "nbformat_minor": 0
}