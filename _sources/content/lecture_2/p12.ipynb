{
 "cells": [
  {
   "cell_type": "markdown",
   "source": [
    "# Problem 2.12\n",
    "\n",
    "Indexing is used to obtain individual elements from an array, but it can also be used to obtain entire rows, columns or planes from multi-dimensional arrays.\n",
    "\n",
    "## 2.1 Indexing in 1 dimension\n",
    "We can create 1 dimensional numpy array from a list like this:"
   ],
   "metadata": {
    "collapsed": false,
    "pycharm": {
     "name": "#%% md\n"
    }
   }
  },
  {
   "cell_type": "code",
   "execution_count": null,
   "outputs": [],
   "source": [
    "import numpy as np\n",
    "\n",
    "A = np.array([1, 2, 3, 4])\n",
    "\n",
    "print(A)  # [1, 2, 3, 4]"
   ],
   "metadata": {
    "collapsed": false,
    "pycharm": {
     "name": "#%%\n"
    }
   }
  },
  {
   "cell_type": "markdown",
   "source": [
    "In the following cell, please show the element in $A$ whose index is 0."
   ],
   "metadata": {
    "collapsed": false,
    "pycharm": {
     "name": "#%% md\n"
    }
   }
  },
  {
   "cell_type": "code",
   "execution_count": null,
   "outputs": [],
   "source": [],
   "metadata": {
    "collapsed": false,
    "pycharm": {
     "name": "#%%\n"
    }
   }
  },
  {
   "cell_type": "markdown",
   "source": [
    "## 2.2 Indexing in 2 dimensions\n",
    "We can create a 2 dimensional numpy array from a Python list of lists, like this:"
   ],
   "metadata": {
    "collapsed": false,
    "pycharm": {
     "name": "#%% md\n"
    }
   }
  },
  {
   "cell_type": "code",
   "execution_count": null,
   "outputs": [],
   "source": [
    "M = np.array([[1, 2, 3],\n",
    "              [4, 5, 6],\n",
    "              [7, 8, 9]])"
   ],
   "metadata": {
    "collapsed": false,
    "pycharm": {
     "name": "#%%\n"
    }
   }
  },
  {
   "cell_type": "markdown",
   "source": [
    "Here is a diagram of the array:\n",
    "\n",
    "![2d_array](./figures/2d_array.png)\n",
    "\n",
    "### Picking an element\n",
    "We can index an element of the array using two indices. Please show the element in $M$ with row index i=1 and column index j=2."
   ],
   "metadata": {
    "collapsed": false,
    "pycharm": {
     "name": "#%% md\n"
    }
   }
  },
  {
   "cell_type": "code",
   "execution_count": null,
   "outputs": [],
   "source": [],
   "metadata": {
    "collapsed": false,
    "pycharm": {
     "name": "#%%\n"
    }
   }
  },
  {
   "cell_type": "markdown",
   "source": [
    "That is quite similar to what would happen with a 2D list. However, numpy allows us to select a single column as well. Please show the column in $M$ with column index 2."
   ],
   "metadata": {
    "collapsed": false,
    "pycharm": {
     "name": "#%% md\n"
    }
   }
  },
  {
   "cell_type": "code",
   "execution_count": null,
   "outputs": [],
   "source": [],
   "metadata": {
    "collapsed": false,
    "pycharm": {
     "name": "#%%\n"
    }
   }
  },
  {
   "cell_type": "markdown",
   "source": [
    "## 2.3 Indexing in 3 dimensions\n",
    "We can create a 3 dimensional numpy array from a Python list of lists of lists, like this:"
   ],
   "metadata": {
    "collapsed": false,
    "pycharm": {
     "name": "#%% md\n"
    }
   }
  },
  {
   "cell_type": "code",
   "execution_count": null,
   "outputs": [],
   "source": [
    "T = np.array([[[10, 11, 12], [13, 14, 15], [16, 17, 18]],\n",
    "               [[20, 21, 22], [23, 24, 25], [26, 27, 28]],\n",
    "               [[30, 31, 32], [33, 34, 35], [36, 37, 38]]])"
   ],
   "metadata": {
    "collapsed": false,
    "pycharm": {
     "name": "#%%\n"
    }
   }
  },
  {
   "cell_type": "markdown",
   "source": [
    "Here is a diagram of the array:\n",
    "![3d_array](./figures/3d_array.png)\n",
    "\n",
    "A 3D array is like a stack of matrices:\n",
    "\n",
    "- The first index, i, selects the matrix\n",
    "- The second index, j, selects the row\n",
    "- The third index, k, selects the column\n",
    "\n",
    "```{note}\n",
    "The above diagram is the NumPy convention for data storage. The dimensions in the code and the dimensions in the physics may or may not match depending on how it is programmed. You may find that other coding languages also use different storage conventions.\n",
    "```\n",
    "\n",
    "Please show the element in $T$ with the index [2,0,1] (layer index i = 2, row index j = 0, and column index k = 1) in $T$."
   ],
   "metadata": {
    "collapsed": false,
    "pycharm": {
     "name": "#%% md\n"
    }
   }
  },
  {
   "cell_type": "code",
   "execution_count": null,
   "outputs": [],
   "source": [],
   "metadata": {
    "collapsed": false,
    "pycharm": {
     "name": "#%%\n"
    }
   }
  },
  {
   "cell_type": "markdown",
   "source": [
    "This selects matrix index 2 (the final matrix), row 0, column 1, giving a value 31.\n",
    "\n",
    "### Picking a row or column in a 3D array\n",
    "You can access any row or column in a 3D array. There are 3 cases.\n",
    "\n",
    "**Case 1** - specifying the first two indices. In this case, you are choosing the i value (the matrix), and the j value (the row). This will select a specific row. Please select row 2 from matrix 1:\n",
    "\n",
    "![3d_array_row](./figures/3d_array_row.png)"
   ],
   "metadata": {
    "collapsed": false,
    "pycharm": {
     "name": "#%% md\n"
    }
   }
  },
  {
   "cell_type": "code",
   "execution_count": null,
   "outputs": [],
   "source": [],
   "metadata": {
    "collapsed": false,
    "pycharm": {
     "name": "#%%\n"
    }
   }
  },
  {
   "cell_type": "markdown",
   "source": [
    "**Case 2** - specifying the i value (the matrix), and the k value (the column), using a full slice (:) for the j value (the row). This will select a specific column.\n",
    "![3d_array_column](./figures/3d_array_column.png)\n",
    "\n",
    "Please select column 1 from matrix 0 in $T$."
   ],
   "metadata": {
    "collapsed": false,
    "pycharm": {
     "name": "#%% md\n"
    }
   }
  },
  {
   "cell_type": "code",
   "execution_count": null,
   "outputs": [],
   "source": [],
   "metadata": {
    "collapsed": false,
    "pycharm": {
     "name": "#%%\n"
    }
   }
  },
  {
   "cell_type": "markdown",
   "source": [
    "**Case 3** - specifying the j value (the row), and the k value (the column), using a full slice (:) for the i value (the matrix). This will create a row by taking the same element from each matrix. In this case we are taking row 1, column 2 from each matrix:\n",
    "\n",
    "![3d_array_row_slice](./figures/3d_array_row_slice.png)"
   ],
   "metadata": {
    "collapsed": false,
    "pycharm": {
     "name": "#%% md\n"
    }
   }
  },
  {
   "cell_type": "code",
   "execution_count": null,
   "outputs": [],
   "source": [],
   "metadata": {
    "collapsed": false,
    "pycharm": {
     "name": "#%%\n"
    }
   }
  },
  {
   "cell_type": "markdown",
   "source": [
    "### Picking a matrix in a 3D array\n",
    "\n",
    "If we only specify the i index, numpy will return the corresponding matrix. We will call this **case 1**. Please show matrix 2 in $T$:\n",
    "\n",
    "![3d_array_z](./figures/3d_array_z.png)"
   ],
   "metadata": {
    "collapsed": false,
    "pycharm": {
     "name": "#%% md\n"
    }
   }
  },
  {
   "cell_type": "code",
   "execution_count": null,
   "outputs": [],
   "source": [],
   "metadata": {
    "collapsed": false,
    "pycharm": {
     "name": "#%%\n"
    }
   }
  },
  {
   "cell_type": "markdown",
   "source": [
    "**Case 2** if we specify just the j value (using a full slice for the i values), we will obtain a matrix made from the selected row taken from each plane. Please take row 1 in $T$:\n",
    "\n",
    "![3d_array_y](./figures/3d_array_y.png)"
   ],
   "metadata": {
    "collapsed": false,
    "pycharm": {
     "name": "#%% md\n"
    }
   }
  },
  {
   "cell_type": "code",
   "execution_count": null,
   "outputs": [],
   "source": [],
   "metadata": {
    "collapsed": false,
    "pycharm": {
     "name": "#%%\n"
    }
   }
  },
  {
   "cell_type": "markdown",
   "source": [
    "**Case 3** - if we specify just the k value (using full slices for the i and j values), we will obtain a matrix made from the selected column taken from each plane. Please take column 0 in $T$:\n",
    "\n",
    "![3d_array_x](./figures/3d_array_x.png)"
   ],
   "metadata": {
    "collapsed": false,
    "pycharm": {
     "name": "#%% md\n"
    }
   }
  },
  {
   "cell_type": "code",
   "execution_count": null,
   "outputs": [],
   "source": [],
   "metadata": {
    "collapsed": false,
    "pycharm": {
     "name": "#%%\n"
    }
   }
  }
 ],
 "metadata": {
  "kernelspec": {
   "display_name": "Python 3",
   "language": "python",
   "name": "python3"
  },
  "language_info": {
   "codemirror_mode": {
    "name": "ipython",
    "version": 2
   },
   "file_extension": ".py",
   "mimetype": "text/x-python",
   "name": "python",
   "nbconvert_exporter": "python",
   "pygments_lexer": "ipython2",
   "version": "2.7.6"
  }
 },
 "nbformat": 4,
 "nbformat_minor": 0
}