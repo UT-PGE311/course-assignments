{
 "cells": [
  {
   "cell_type": "markdown",
   "source": [
    "# Problem 2.13\n",
    "\n",
    "You can slice a numpy array is a similar way to slicing a list - except you can do it in more than one dimension.\n",
    "\n",
    "As with indexing, the array you get back when you index or slice a numpy array is a view of the original array. It is the same data, just accessed in a different order. This is different to lists, where a slice returns a completely new list.\n",
    "\n",
    "## 2.13.0 Slicing lists - a review\n",
    "No questions here. Just a quick recap on how slicing works with normal Python lists. Suppose we have a list:"
   ],
   "metadata": {
    "collapsed": false,
    "pycharm": {
     "name": "#%% md\n"
    }
   }
  },
  {
   "cell_type": "code",
   "execution_count": null,
   "outputs": [],
   "source": [
    "a = [10, 11, 12, 13, 14]"
   ],
   "metadata": {
    "collapsed": false,
    "pycharm": {
     "name": "#%%\n"
    }
   }
  },
  {
   "cell_type": "markdown",
   "source": [
    "We can use slicing to take a sub-list, like this"
   ],
   "metadata": {
    "collapsed": false,
    "pycharm": {
     "name": "#%% md\n"
    }
   }
  },
  {
   "cell_type": "code",
   "execution_count": null,
   "outputs": [],
   "source": [
    "b = a[1:4]    # [11, 12, 13]"
   ],
   "metadata": {
    "collapsed": false,
    "pycharm": {
     "name": "#%%\n"
    }
   }
  },
  {
   "cell_type": "markdown",
   "source": [
    "The slice notation specifies a start and end value [start:end]\n",
    "\n",
    "```{note}\n",
    "When slicing lists/arrays, Python will copy the list from start up to but not including end. In other words, the start index is **inclusive** and the end index is **non-inclusive**.\n",
    "```\n",
    "\n",
    "We can omit the start, in which case the slice start at the beginning of the list. We can omit the end, so the slice continues to the end of the list. If we omit both the slice created is a copy of the entire list:"
   ],
   "metadata": {
    "collapsed": false,
    "pycharm": {
     "name": "#%% md\n"
    }
   }
  },
  {
   "cell_type": "code",
   "execution_count": null,
   "outputs": [],
   "source": [
    "c = a[:3]    # [10, 11, 12]\n",
    "d = a[2:]    # [12, 13, 14]\n",
    "e = a[:]     # [10, 11, 12, 13, 14]"
   ],
   "metadata": {
    "collapsed": false,
    "pycharm": {
     "name": "#%%\n"
    }
   }
  },
  {
   "cell_type": "markdown",
   "source": [
    "One final thing to note is the difference between an index and a slice of length 1:"
   ],
   "metadata": {
    "collapsed": false,
    "pycharm": {
     "name": "#%% md\n"
    }
   }
  },
  {
   "cell_type": "code",
   "execution_count": null,
   "outputs": [],
   "source": [
    "f = a[2]    # 12\n",
    "g = a[2:3]  # [12]"
   ],
   "metadata": {
    "collapsed": false,
    "pycharm": {
     "name": "#%%\n"
    }
   }
  },
  {
   "cell_type": "markdown",
   "source": [
    "The index returns an element of the array, the slice returns a list of one element.\n",
    "\n",
    "## 2.13.1 Slicing 1D numpy arrays\n",
    "Slicing a 1D numpy array is almost exactly the same as slicing a list. Let's first create a 1D array."
   ],
   "metadata": {
    "collapsed": false,
    "pycharm": {
     "name": "#%% md\n"
    }
   }
  },
  {
   "cell_type": "code",
   "execution_count": null,
   "outputs": [],
   "source": [
    "import numpy as np\n",
    "A = np.array([1, 2, 3, 4, 5])"
   ],
   "metadata": {
    "collapsed": false,
    "pycharm": {
     "name": "#%%\n"
    }
   }
  },
  {
   "cell_type": "markdown",
   "source": [],
   "metadata": {
    "collapsed": false,
    "pycharm": {
     "name": "#%% md\n"
    }
   }
  },
  {
   "cell_type": "code",
   "execution_count": null,
   "outputs": [],
   "source": [],
   "metadata": {
    "collapsed": false,
    "pycharm": {
     "name": "#%%\n"
    }
   }
  },
  {
   "cell_type": "markdown",
   "source": [
    "```{note}\n",
    "Unlike a list, slicing NumPy arrays will result in two variables pointing to the same memory address. If you change an element in the sliced array, the original array $A$ may be affected (and vice versa).\n",
    "\n",
    "You can get around this by creating a copy of the original array, but we will not concern ourselves with that at this stage.\n",
    "```\n",
    "## 12.13.2 Slicing a 2D array\n",
    "You can slice a 2D array in both axes to obtain a rectangular subset of the original array."
   ],
   "metadata": {
    "collapsed": false,
    "pycharm": {
     "name": "#%% md\n"
    }
   }
  },
  {
   "cell_type": "code",
   "execution_count": null,
   "outputs": [],
   "source": [
    "M = np.array([[10, 11, 12, 13, 14],\n",
    "               [15, 16, 17, 18, 19],\n",
    "               [20, 21, 22, 23, 24],\n",
    "               [25, 26, 27, 28, 29]])"
   ],
   "metadata": {
    "collapsed": false,
    "pycharm": {
     "name": "#%%\n"
    }
   }
  },
  {
   "cell_type": "markdown",
   "source": [
    "Please get the elements in row indices i = 1,2,3 and column indices 2 and 3.\n",
    "\n",
    "![2d_array_slice](figures/2d_array_slice.png)"
   ],
   "metadata": {
    "collapsed": false,
    "pycharm": {
     "name": "#%% md\n"
    }
   }
  },
  {
   "cell_type": "code",
   "execution_count": null,
   "outputs": [],
   "source": [],
   "metadata": {
    "collapsed": false,
    "pycharm": {
     "name": "#%%\n"
    }
   }
  },
  {
   "cell_type": "markdown",
   "source": [
    "## 12.13.3 Slicing a 3D array\n",
    "\n",
    "You can slice a 3D array in all 3 axes to obtain a cuboid subset of the original array:"
   ],
   "metadata": {
    "collapsed": false,
    "pycharm": {
     "name": "#%% md\n"
    }
   }
  },
  {
   "cell_type": "code",
   "execution_count": null,
   "outputs": [],
   "source": [
    "T = np.array([[[10, 11, 12], [13, 14, 15], [16, 17, 18]],\n",
    "               [[20, 21, 22], [23, 24, 25], [26, 27, 28]],\n",
    "               [[30, 31, 32], [33, 34, 35], [36, 37, 38]]])"
   ],
   "metadata": {
    "collapsed": false,
    "pycharm": {
     "name": "#%%\n"
    }
   }
  },
  {
   "cell_type": "markdown",
   "source": [
    "Please get the elements in the first two layers, the last two rows, and the first two columns.\n",
    "\n",
    "This selects:\n",
    "\n",
    "- planes :2 (the first 2 planes)\n",
    "- rows 1: (the last 2 rows)\n",
    "- columns :2 (the first 2 columns)\n",
    "\n",
    "\n",
    "![3d_array_slice_cube](figures/3d_array_slice_cube.png)"
   ],
   "metadata": {
    "collapsed": false,
    "pycharm": {
     "name": "#%% md\n"
    }
   }
  },
  {
   "cell_type": "code",
   "execution_count": null,
   "outputs": [],
   "source": [],
   "metadata": {
    "collapsed": false,
    "pycharm": {
     "name": "#%%\n"
    }
   }
  },
  {
   "cell_type": "markdown",
   "source": [
    "## 12.13.4 Full slices\n",
    "\n",
    "You can, of course, use full slices : to select all planes, columns or rows. However, for trailing indices, simply omitting the index counts as a full slice. So for 2D arrays:\n",
    "\n",
    "``` M[1:3,:] ``` is the same as ```M[1:3]```\n",
    "\n",
    "For 3D arrays:\n",
    "```T[1:,:2,:]``` is the same as ```T[1:,:2]```\n",
    "\n",
    "Similarly, ```T[1:,:,:]``` is the same as ```T[1:,:]``` and is also the same as ```T[1:]```\n",
    "\n",
    "Try it out yourself!"
   ],
   "metadata": {
    "collapsed": false,
    "pycharm": {
     "name": "#%% md\n"
    }
   }
  },
  {
   "cell_type": "code",
   "execution_count": null,
   "outputs": [],
   "source": [],
   "metadata": {
    "collapsed": false,
    "pycharm": {
     "name": "#%%\n"
    }
   }
  },
  {
   "cell_type": "markdown",
   "source": [
    "## 12.13.5 Slices vs indexing\n",
    "No questions here.\n",
    "\n",
    "You can use an index to select a particular plane column or row. Here we select row 1, columns 2:4"
   ],
   "metadata": {
    "collapsed": false,
    "pycharm": {
     "name": "#%% md\n"
    }
   }
  },
  {
   "cell_type": "code",
   "execution_count": null,
   "outputs": [],
   "source": [
    "M = np.array([[10, 11, 12, 13, 14],\n",
    "               [15, 16, 17, 18, 19],\n",
    "               [20, 21, 22, 23, 24],\n",
    "               [25, 26, 27, 28, 29]])\n",
    "\n",
    "print(M[1,2:4])  # [17 18]"
   ],
   "metadata": {
    "collapsed": false,
    "pycharm": {
     "name": "#%%\n"
    }
   }
  },
  {
   "cell_type": "markdown",
   "source": [
    "You can also use a slice of length 1 to do something similar (slice 1:2 instead of index 1):"
   ],
   "metadata": {
    "collapsed": false,
    "pycharm": {
     "name": "#%% md\n"
    }
   }
  },
  {
   "cell_type": "code",
   "execution_count": null,
   "outputs": [],
   "source": [
    "print(M[1:2,2:4])  # [[17 18]]"
   ],
   "metadata": {
    "collapsed": false,
    "pycharm": {
     "name": "#%%\n"
    }
   }
  },
  {
   "cell_type": "markdown",
   "source": [
    "Notice the subtle difference. The first creates a 1D array, the second creates a 2D array with only one row."
   ],
   "metadata": {
    "collapsed": false,
    "pycharm": {
     "name": "#%% md\n"
    }
   }
  },
  {
   "cell_type": "markdown",
   "source": [
    "## 12.13.6 Plotting\n",
    "\n",
    "Let's graphically show numbers in each plane for the 3-D array $T$. Use subplots to separately plot each plane (0,1,2) of array $T$. You can use function ```imshow()``` from ```matplotlib.pyplot``` and make sure to add colorbar as well as title to each subplot (plane 0, plane 1, plane 2). Pick a colormap of choice from [https://matplotlib.org/tutorials/colors/colormaps.html](https://matplotlib.org/tutorials/colors/colormaps.html)"
   ],
   "metadata": {
    "collapsed": false,
    "pycharm": {
     "name": "#%% md\n"
    }
   }
  },
  {
   "cell_type": "code",
   "execution_count": null,
   "outputs": [],
   "source": [],
   "metadata": {
    "collapsed": false,
    "pycharm": {
     "name": "#%%\n"
    }
   }
  }
 ],
 "metadata": {
  "kernelspec": {
   "display_name": "Python 3",
   "language": "python",
   "name": "python3"
  },
  "language_info": {
   "codemirror_mode": {
    "name": "ipython",
    "version": 2
   },
   "file_extension": ".py",
   "mimetype": "text/x-python",
   "name": "python",
   "nbconvert_exporter": "python",
   "pygments_lexer": "ipython2",
   "version": "2.7.6"
  }
 },
 "nbformat": 4,
 "nbformat_minor": 0
}